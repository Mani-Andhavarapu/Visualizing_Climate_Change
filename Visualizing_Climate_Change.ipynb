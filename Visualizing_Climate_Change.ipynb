{
  "nbformat": 4,
  "nbformat_minor": 0,
  "metadata": {
    "kernelspec": {
      "display_name": "Python 3",
      "language": "python",
      "name": "python3"
    },
    "language_info": {
      "codemirror_mode": {
        "name": "ipython",
        "version": 3
      },
      "file_extension": ".py",
      "mimetype": "text/x-python",
      "name": "python",
      "nbconvert_exporter": "python",
      "pygments_lexer": "ipython3",
      "version": "3.5.2"
    },
    "colab": {
      "name": "Visualizing_Climate_Change.ipynb",
      "provenance": []
    }
  },
  "cells": [
    {
      "cell_type": "code",
      "metadata": {
        "id": "vwUsCN1U9Wod"
      },
      "source": [
        "# Importing the libraries\n",
        "import numpy as np # Linear Algebra\n",
        "import matplotlib.pyplot as plt # data visualization\n",
        "import pandas as pd # data processing, CSV file I/O (e.g. pd.read_csv)\n",
        "import plotly.graph_objects as go\n",
        "import plotly.tools as tls\n",
        "import seaborn as sns\n",
        "from matplotlib import pyplot as plt"
      ],
      "execution_count": null,
      "outputs": []
    },
    {
      "cell_type": "code",
      "metadata": {
        "id": "3wvTi3kD9Woi"
      },
      "source": [
        "# Reading all the column names\n",
        "df = pd.read_csv(\"GlobalLandTemperaturesByMajorCity.csv\")\n",
        "df.columns"
      ],
      "execution_count": null,
      "outputs": []
    },
    {
      "cell_type": "code",
      "metadata": {
        "id": "iJJrlGeWkf1f"
      },
      "source": [
        "\n",
        "\n",
        "total_cities = df.pivot_table(index=['City'], aggfunc='size')\n",
        "total_countries = df.pivot_table(index=['Country'], aggfunc='size')\n",
        "print('In total, there are', len(total_cities), 'cities in', len(total_countries), 'countries')"
      ],
      "execution_count": null,
      "outputs": []
    },
    {
      "cell_type": "code",
      "metadata": {
        "id": "9SOgwWL7l-n2",
        "outputId": "9ba828dc-fb6b-4f41-b952-e0bcb385f0bb",
        "colab": {
          "base_uri": "https://localhost:8080/",
          "height": 34
        }
      },
      "source": [
        "\n",
        "\n",
        "earliest_date = df.iloc[:,0].min()\n",
        "latest_date = df.iloc[:,0].max()\n",
        "print('The earliest(starting) date on record is', earliest_date, 'and the latest(ending) date on record is', latest_date)"
      ],
      "execution_count": null,
      "outputs": [
        {
          "output_type": "stream",
          "text": [
            "The earliest(starting) date on record is 1743-11-01 00:00:00 and the latest(ending) date on record is 2013-09-01 00:00:00\n"
          ],
          "name": "stdout"
        }
      ]
    },
    {
      "cell_type": "code",
      "metadata": {
        "id": "wi7NVHsH9Wom"
      },
      "source": [
        "# Dropping all the empty element rows\n",
        "df.dt = pd.to_datetime(df.dt)\n",
        "df.dropna(subset=[\"AverageTemperature\"],inplace=True)"
      ],
      "execution_count": null,
      "outputs": []
    },
    {
      "cell_type": "code",
      "metadata": {
        "id": "KSTF6Ohs9Woq"
      },
      "source": [
        "# Changing the date and time forms\n",
        "df[\"Month\"] = df.dt.apply(lambda x: x.strftime(\"%B\"))\n",
        "df[\"Year\"] = df.dt.apply(lambda x: x.year)\n",
        "df.City=df.City.astype('str')"
      ],
      "execution_count": null,
      "outputs": []
    },
    {
      "cell_type": "code",
      "metadata": {
        "id": "A0KsnE7Kjdpj"
      },
      "source": [
        "# Printing the list of countries and cities\n",
        "country = list(df['Country'].unique())\n",
        "print('Number of countries = ',len(country),'\\n')\n",
        "\n",
        "j=0\n",
        "city=[]\n",
        "for i in country:\n",
        "    df_temp = df.loc[df['Country'] == i]\n",
        "    city.append(list(df_temp['City'].unique()))\n",
        "    print('Number of cities = ',len(city[j]),\" in \",i)\n",
        "    j+=1\n",
        "\n",
        "print('\\n\\nCountry = ',country,'\\n\\n')\n",
        "print('City = ',city)"
      ],
      "execution_count": null,
      "outputs": []
    },
    {
      "cell_type": "code",
      "metadata": {
        "id": "E-UHHe8LnvKk"
      },
      "source": [
        "\n",
        "\n",
        "lat_num = np.array([np.float(cl[:-1]) * (1 if cl[-1] == \"N\" else -1) for cl in df.Latitude])\n",
        "lon_num = np.array([np.float(cl[:-1]) * (1 if cl[-1] == \"E\" else -1) for cl in df.Longitude])\n",
        "\n",
        "def plotCitiesOnMap():\n",
        "  fig = go.Figure(go.Scattergeo(\n",
        "      lat = lat_num,\n",
        "      lon = lon_num,\n",
        "      mode ='markers',\n",
        "      marker=dict(color='red', #country_integer\n",
        "                  colorscale='jet'),\n",
        "      text=df.City, #cities_unique\n",
        "  ))\n",
        "\n",
        "  fig.update_layout(autosize=True, hovermode='closest',\n",
        "                    title='Locations of Cities in Dataset',\n",
        "                    geo=dict(showcountries=True))\n",
        "  fig.show()"
      ],
      "execution_count": null,
      "outputs": []
    },
    {
      "cell_type": "code",
      "metadata": {
        "id": "eEhN6P2PoHtN"
      },
      "source": [
        "\n",
        "\n",
        "plotCitiesOnMap()"
      ],
      "execution_count": null,
      "outputs": []
    },
    {
      "cell_type": "code",
      "metadata": {
        "id": "zDyYPMv29Wo2"
      },
      "source": [
        "\n",
        "\n",
        "def MeanAnnualTemperature(df):\n",
        "    plt.figure(figsize=(15, 7))\n",
        "    df=df.groupby([\"City\",\"Year\"], as_index=False)[\"AverageTemperature\"].mean()\n",
        "    df=df.groupby([\"Year\"], as_index=False)[\"AverageTemperature\"].mean()\n",
        "    plot=sns.lineplot(\n",
        "            x=\"Year\",\n",
        "            y=\"AverageTemperature\",\n",
        "            data=df)        "
      ],
      "execution_count": null,
      "outputs": []
    },
    {
      "cell_type": "code",
      "metadata": {
        "id": "ivoSQ_n79Wo6"
      },
      "source": [
        "\n",
        "MeanAnnualTemperature(df)"
      ],
      "execution_count": null,
      "outputs": []
    },
    {
      "cell_type": "code",
      "metadata": {
        "id": "udVspfiGtsYc"
      },
      "source": [
        "\n",
        "def calculateAnnualMean(city):\n",
        "  \n",
        "  daily_temperature = df.AverageTemperature[df.City == city]\n",
        "  year = df.Year[df.City == city]\n",
        "  year_unique = np.unique(year)\n",
        "\n",
        "  annual_mean = [np.mean(daily_temperature[i == year]) for i in year_unique]\n",
        "  return year_unique, np.array(annual_mean)"
      ],
      "execution_count": null,
      "outputs": []
    },
    {
      "cell_type": "code",
      "metadata": {
        "id": "_VU8dXyhtZR4"
      },
      "source": [
        "################    (This function can be used to make a plot for any city)\n",
        "\n",
        "def plotAnnualMeanTemp(city):\n",
        "  x, y = calculateAnnualMean(city)\n",
        "\n",
        "  #Running Mean\n",
        "  N = 10\n",
        "  df1 = pd.DataFrame(y)\n",
        "  y_mean = df1.rolling(N, center = True).mean().to_numpy().flatten()\n",
        "\n",
        "  fig = go.Figure()\n",
        "  fig.add_trace(go.Scatter(x=x, y=y, name = \"Yearly Mean\"))\n",
        "  fig.add_trace(go.Scatter(x=x, y=y_mean, name = str(N) + \" year running mean\"))\n",
        "  fig.update_layout(title = city, xaxis_title='Year', yaxis_title = 'Temperature (in Celsius)')\n",
        "  fig.show()"
      ],
      "execution_count": null,
      "outputs": []
    },
    {
      "cell_type": "code",
      "metadata": {
        "id": "KTDghHLAtdVg"
      },
      "source": [
        "\n",
        "plotAnnualMeanTemp(\"Toronto\")"
      ],
      "execution_count": null,
      "outputs": []
    },
    {
      "cell_type": "code",
      "metadata": {
        "id": "sRQuaUVQf5gQ"
      },
      "source": [
        "\n",
        "plotAnnualMeanTemp(\"Shanghai\")"
      ],
      "execution_count": null,
      "outputs": []
    },
    {
      "cell_type": "code",
      "metadata": {
        "id": "e8P2dtlEvIjF"
      },
      "source": [
        "################    (This function can be used to make a plot for any city, for any specific month over all years)\n",
        "\n",
        "def MonthCityMeanAnnualTemperature(df,City,Month):\n",
        "    if City not in df.City.unique():\n",
        "        print(\"City Doesnt Exist\")\n",
        "    else:\n",
        "        plt.figure(figsize=(15, 7))\n",
        "        df=df.loc[(df.City == City) & (df.Month == Month)]\n",
        "        df=df.groupby([\"Year\"], as_index=False)[\"AverageTemperature\"].mean()\n",
        "        plot=sns.lineplot(\n",
        "                x=\"Year\",\n",
        "                y=\"AverageTemperature\",\n",
        "                data=df)"
      ],
      "execution_count": null,
      "outputs": []
    },
    {
      "cell_type": "code",
      "metadata": {
        "id": "EESphDhm9WpJ"
      },
      "source": [
        "MonthCityMeanAnnualTemperature(df,\"Toronto\",\"January\")"
      ],
      "execution_count": null,
      "outputs": []
    },
    {
      "cell_type": "code",
      "metadata": {
        "id": "EbDnI2g_qodL"
      },
      "source": [
        "MonthCityMeanAnnualTemperature(df,\"Toronto\",\"July\")"
      ],
      "execution_count": null,
      "outputs": []
    },
    {
      "cell_type": "code",
      "metadata": {
        "id": "n-JhHt5r9WpM"
      },
      "source": [
        "################    (This function can be used to make a plot for any month, over all years)\n",
        "\n",
        "def MonthCityTempOverAllCities(df,Month):\n",
        "    df1=df.groupby([\"Year\",\"Month\"], as_index=False)[\"AverageTemperature\"].mean()\n",
        "    df1=df1.loc[df1.Month==Month]\n",
        "    MaxMonth=df1.loc[df1.AverageTemperature==df1.AverageTemperature.max()].Year\n",
        "    MinMonth=df1.loc[df1.AverageTemperature == df1.AverageTemperature.min()].Year\n",
        "    plt.figure(figsize=(15, 7))\n",
        "    plot=sns.lineplot(\n",
        "                x=\"Year\",\n",
        "                y=\"AverageTemperature\",\n",
        "                data=df1)\n",
        "    \n",
        "    df2=df.groupby([\"City\",\"Month\"], as_index=False)[\"AverageTemperature\"].mean()\n",
        "    df2=df2.loc[df2.Month==Month]\n",
        "    "
      ],
      "execution_count": null,
      "outputs": []
    },
    {
      "cell_type": "code",
      "metadata": {
        "id": "iSpK_6wi9WpP"
      },
      "source": [
        "MonthCityTempOverAllCities(df,\"January\")"
      ],
      "execution_count": null,
      "outputs": []
    },
    {
      "cell_type": "code",
      "metadata": {
        "id": "gtFoIkxd3SCx"
      },
      "source": [
        "MonthCityTempOverAllCities(df,\"July\")"
      ],
      "execution_count": null,
      "outputs": []
    }
  ]
}